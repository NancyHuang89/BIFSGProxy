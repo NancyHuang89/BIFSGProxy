{
 "cells": [
  {
   "cell_type": "code",
   "execution_count": 2,
   "id": "0f65c6be",
   "metadata": {},
   "outputs": [
    {
     "name": "stdout",
     "output_type": "stream",
     "text": [
      "Use BIFSG Package For Research Purpose\n"
     ]
    },
    {
     "data": {
      "text/plain": [
       "{'White': 0.0037931099299212748,\n",
       " 'Hispanic': 4.253360464180441e-05,\n",
       " 'Black': 0.0,\n",
       " 'Asian': 0.5827984229707825,\n",
       " 'AIAN': 0.0,\n",
       " 'Multi-Race': 0.41336593349465434}"
      ]
     },
     "execution_count": 2,
     "metadata": {},
     "output_type": "execute_result"
    }
   ],
   "source": [
    "import BIFSGProxy as BIFSG\n",
    "\n",
    "a = BIFSG.OneLine_BIFSG_Proxy('Mai','Suzuki','1660 S Eads Dr','Arlington','VA','22202')\n",
    "\n",
    "a.BIFSG_Proxy()"
   ]
  },
  {
   "cell_type": "code",
   "execution_count": null,
   "id": "db87d139",
   "metadata": {},
   "outputs": [],
   "source": []
  }
 ],
 "metadata": {
  "kernelspec": {
   "display_name": "Python 3 (ipykernel)",
   "language": "python",
   "name": "python3"
  },
  "language_info": {
   "codemirror_mode": {
    "name": "ipython",
    "version": 3
   },
   "file_extension": ".py",
   "mimetype": "text/x-python",
   "name": "python",
   "nbconvert_exporter": "python",
   "pygments_lexer": "ipython3",
   "version": "3.9.12"
  }
 },
 "nbformat": 4,
 "nbformat_minor": 5
}
